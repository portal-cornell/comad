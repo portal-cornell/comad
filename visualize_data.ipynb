{
 "cells": [
  {
   "cell_type": "code",
   "execution_count": null,
   "metadata": {},
   "outputs": [],
   "source": [
    "import sys, os\n",
    "import utils\n",
    "import matplotlib as mpl\n",
    "mpl.rcParams['figure.dpi'] = 150\n",
    "\n",
    "%matplotlib inline\n",
    "cwd_path = os.getcwd()\n",
    "sys.path.append(cwd_path)\n",
    "\n",
    "# Change for desired episode to visualize:\n",
    "train_or_test = \"train\"\n",
    "task = \"handover\"\n",
    "dataset = \"HH\"\n",
    "episode = \"61\"\n",
    "img_slide = True\n",
    "# Set to true if working with snapshot data\n",
    "snapshot = False\n",
    "\n",
    "display = utils.visualize(cwd_path, train_or_test, dataset, task, episode, img_slide, snapshot)\n",
    "display"
   ]
  }
 ],
 "metadata": {
  "kernelspec": {
   "display_name": "Python 3 (ipykernel)",
   "language": "python",
   "name": "python3"
  },
  "language_info": {
   "codemirror_mode": {
    "name": "ipython",
    "version": 3
   },
   "file_extension": ".py",
   "mimetype": "text/x-python",
   "name": "python",
   "nbconvert_exporter": "python",
   "pygments_lexer": "ipython3",
   "version": "3.9.17"
  }
 },
 "nbformat": 4,
 "nbformat_minor": 2
}
